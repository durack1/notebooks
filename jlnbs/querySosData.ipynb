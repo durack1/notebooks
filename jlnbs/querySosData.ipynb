{
 "cells": [
  {
   "cell_type": "markdown",
   "id": "a77995d9-0018-4b9a-89ba-2a21514c3bd3",
   "metadata": {},
   "source": [
    "# Query CMIP6 ocean daily salinity data"
   ]
  },
  {
   "cell_type": "markdown",
   "id": "d200efb3-0442-48af-8cb9-0d9d075d16d7",
   "metadata": {},
   "source": [
    "# Notes"
   ]
  },
  {
   "cell_type": "raw",
   "id": "4f1e4347-5d17-470f-ae07-594fa74f3ad9",
   "metadata": {},
   "source": [
    "PJD 14 Jun 2024 - started\n",
    "PJD 17 Jun 2024 - updated with more targeted data search\n",
    "\n",
    "After querying data levels we get:\n",
    "AWI-CM-1-1-MR, AWI-ESM-1-1-LR: -0\n",
    "CanESM5, CanESM5-1, CanESM5-CanOE: 3\n",
    "\n",
    "Notes:\n",
    "\n",
    "# CMCC-ESM2: lev = 0.512634017773053, 1.62101503235863, 2.85843077903064, 4.25051257463019, 5.82795981881645, 7.62753192942091, 9.69322997643212, 12.077702347432, 14.8439141310018, 18.0671256998257, 21.8372320452318,\n",
    "# EC-Earth3-CC: lev = 0.505760014057159, 1.55585527420044, 2.66768169403076, 3.8562798500061, 5.14036130905151, 6.54303359985352, 8.09251880645752, 9.82275009155273, 11.7736797332764, 13.9910383224487, 16.5253219604492\n",
    "# GFDL-CM4: will need to request data access from NOAA-GFDL folks\n",
    "# IPSL-CM6A-LR: olevel = 0.50576, 1.555855, 2.667682, 3.85628, 5.140361, 6.543034, 8.092519, 9.82275, 11.77368, 13.99104, 16.52532,\n",
    "# MRI-ESM2-0: lev = 1, 3.5, 6.5, 10, 15,\n",
    "# HadGEM2/UKESM1-x models have a 0-1 m top level, and 75 vertical levels which looks like a very similar configuration to the EC-Earth3-CC above"
   ]
  },
  {
   "cell_type": "markdown",
   "id": "3efc52f9-33c9-4196-8b36-5b6b2e45d3fb",
   "metadata": {},
   "source": [
    "## imports"
   ]
  },
  {
   "cell_type": "code",
   "execution_count": 1,
   "id": "0726eab5-ad80-4596-b466-d62c53cbb023",
   "metadata": {},
   "outputs": [
    {
     "name": "stdout",
     "output_type": "stream",
     "text": [
      "CPU times: user 6.15 s, sys: 1.71 s, total: 7.86 s\n",
      "Wall time: 6.21 s\n"
     ]
    }
   ],
   "source": [
    "%%time\n",
    "import glob\n",
    "import json\n",
    "import os\n",
    "import pdb\n",
    "os.sys.path.insert(0, \"/p/user_pub/xclim/persist/software/xsearch/\")\n",
    "import xcdat as xc\n",
    "import xsearch as xs\n",
    "from IPython.display import clear_output\n",
    "\n",
    "import logging\n",
    "logging.getLogger(\"xcdat\").setLevel(logging.ERROR)"
   ]
  },
  {
   "cell_type": "markdown",
   "id": "73b54f8b-d644-4b56-819b-9c96ac57bb11",
   "metadata": {},
   "source": [
    "## use xsearch to find variables (in experiments) of interest - high frequency near-surface salinity¶"
   ]
  },
  {
   "cell_type": "code",
   "execution_count": 2,
   "id": "6e63c8eb-4992-4cca-b3d9-02723da1a7f4",
   "metadata": {},
   "outputs": [
    {
     "name": "stdout",
     "output_type": "stream",
     "text": [
      "CPU times: user 15.8 ms, sys: 293 µs, total: 16.1 ms\n",
      "Wall time: 14.3 ms\n"
     ]
    }
   ],
   "source": [
    "%%time\n",
    "dpathsPi = xs.findPaths('piControl', 'so', 'mon', realm='ocean', cmipTable='Omon', deduplicate=True) # piControl monthly near-surface in the ocean realm\n",
    "#dpathsHi = xs.findPaths('historical', 'so', 'mon', realm='ocean', cmipTable='Omon', deduplicate=True) # historical monthly near-surface in the ocean realm\n",
    "#dpathsHiD = xs.findPaths('historical', 'sos', 'day', realm='ocean', cmipTable='Oday', deduplicate=True) # historical daily near-surface in the ocean realm\n",
    "dpathsPiDS = xs.findPaths('piControl', 'sos', 'day', realm='ocean', cmipTable='Oday', deduplicate=True) # piControl daily near-surface salinity in the ocean realm\n",
    "dpathsPiDT = xs.findPaths('piControl', 'tos', 'day', realm='ocean', cmipTable='Oday', deduplicate=True) # piControl daily near-surface temperature in the ocean realm"
   ]
  },
  {
   "cell_type": "markdown",
   "id": "df7718a6-fb65-45b7-85af-664da5dc927a",
   "metadata": {},
   "source": [
    "## loop over piControl entries and report top 10 levels"
   ]
  },
  {
   "cell_type": "code",
   "execution_count": null,
   "id": "b9046353-23c5-4acf-9e57-976d365787f9",
   "metadata": {},
   "outputs": [
    {
     "name": "stdout",
     "output_type": "stream",
     "text": [
      "0 ACCESS1-0 []\n",
      "1 ACCESS1-3 []\n",
      "2 ACCESS-CM2 []\n",
      "3 ACCESS-ESM1-5 []\n",
      "4 AWI-CM-1-1-MR ['r1i1p1f1']\n",
      "dpath: /p/css03/esgf_publish/CMIP6/CMIP/AWI/AWI-CM-1-1-MR/piControl/r1i1p1f1/Oday/sos/gn/v20181218/\n",
      "<xarray.DataArray 'time' (time: 3652)>\n",
      "array([cftime.DatetimeGregorian(2401, 1, 1, 12, 0, 0, 0, has_year_zero=False),\n",
      "       cftime.DatetimeGregorian(2401, 1, 2, 12, 0, 0, 0, has_year_zero=False),\n",
      "       cftime.DatetimeGregorian(2401, 1, 3, 12, 0, 0, 0, has_year_zero=False),\n",
      "       ...,\n",
      "       cftime.DatetimeGregorian(2410, 12, 29, 12, 0, 0, 0, has_year_zero=False),\n",
      "       cftime.DatetimeGregorian(2410, 12, 30, 12, 0, 0, 0, has_year_zero=False),\n",
      "       cftime.DatetimeGregorian(2410, 12, 31, 12, 0, 0, 0, has_year_zero=False)],\n",
      "      dtype=object)\n",
      "Coordinates:\n",
      "  * time     (time) object 2401-01-01 12:00:00 ... 2410-12-31 12:00:00\n",
      "Attributes:\n",
      "    standard_name:  time\n",
      "    long_name:      time\n",
      "    axis:           T\n",
      "    bounds:         time_bnds\n",
      "> \u001b[0;32m<timed exec>\u001b[0m(32)\u001b[0;36m<module>\u001b[0;34m()\u001b[0m\n",
      "\n"
     ]
    }
   ],
   "source": [
    "%%time\n",
    "firstMemberOnly = True\n",
    "\n",
    "models = xs.natural_sort(xs.getGroupValues(dpathsPi, 'model'))\n",
    "for count, model in enumerate(models):  # Toggle off the [0:1] single model layer to iterate over models\n",
    "    #dpaths_model = xs.retainDataByFacetValue(dpathsPi, 'model', model)  # monthly data - dpathsPi\n",
    "    dpaths_model = xs.retainDataByFacetValue(dpathsPiDS, 'model', model)  # daily data - dpathsPiD\n",
    "    members = xs.natural_sort(xs.getGroupValues(dpaths_model, 'member'))\n",
    "    if firstMemberOnly:\n",
    "        members = members[0:1]\n",
    "    print(count, model, members)\n",
    "    for member in members:\n",
    "        dpaths_model_member_list = xs.getValuesForFacet(dpaths_model, 'member', member)\n",
    "        if len(dpaths_model_member_list) > 1:\n",
    "            print('Error: multiple paths detected for ', model, member, ': ', dpaths_model_member_list)\n",
    "        else:\n",
    "            dpath = dpaths_model_member_list[0]\n",
    "            print(\"dpath:\", dpath)\n",
    "            ncfile = xs.natural_sort(glob.glob(os.path.join(dpath, '*.nc')))[0]\n",
    "        # now poll vertical axis\n",
    "        #ds = xc.open_mfdataset(ncfile, decode_times=True)\n",
    "        ds = xc.open_dataset(ncfile, decode_times=True)\n",
    "        #z = xc.get_dim_coords(ds, \"Z\")  # vertical coordinate\n",
    "        #print(z)\n",
    "        t = xc.get_dim_coords(ds, \"T\")  # time coordinate\n",
    "        print(t)\n",
    "        #x = xc.get_dim_coords(ds, \"X\")  # longitude coordinate\n",
    "        #print(x)\n",
    "        #y = xc.get_dim_coords(ds, \"Y\")  # latitude coordinate\n",
    "        #print(y)\n",
    "        pdb.set_trace()\n",
    "        clear_output(wait=True)"
   ]
  },
  {
   "cell_type": "code",
   "execution_count": 5,
   "id": "2b8af50c-e2f0-4a1a-864e-69766dd04768",
   "metadata": {},
   "outputs": [
    {
     "name": "stdout",
     "output_type": "stream",
     "text": [
      "total 106G\n",
      "drwxrwsr-x 2  1682 climatew 4.0K May 20  2019 .\n",
      "drwxrwxr-x 3 36337 climatew 4.0K May 20  2019 ..\n",
      "-rw-rw-r-- 1  1682 climatew 8.8G Mar  9  2019 sos_Oday_CESM2_piControl_r1i1p1f1_gr_00010102-01000101.nc\n",
      "-rw-rw-r-- 1  1682 climatew 8.9G Mar  9  2019 sos_Oday_CESM2_piControl_r1i1p1f1_gr_01000102-02000101.nc\n",
      "-rw-rw-r-- 1  1682 climatew 8.9G Mar  9  2019 sos_Oday_CESM2_piControl_r1i1p1f1_gr_02000102-03000101.nc\n",
      "-rw-rw-r-- 1  1682 climatew 8.9G Mar  9  2019 sos_Oday_CESM2_piControl_r1i1p1f1_gr_03000102-04000101.nc\n",
      "-rw-rw-r-- 1  1682 climatew 8.9G Mar  9  2019 sos_Oday_CESM2_piControl_r1i1p1f1_gr_04000102-05000101.nc\n",
      "-rw-rw-r-- 1  1682 climatew 8.9G Mar  9  2019 sos_Oday_CESM2_piControl_r1i1p1f1_gr_05000102-06000101.nc\n",
      "-rw-rw-r-- 1  1682 climatew 8.9G Mar  9  2019 sos_Oday_CESM2_piControl_r1i1p1f1_gr_06000102-07000101.nc\n",
      "-rw-rw-r-- 1  1682 climatew 8.9G Mar  9  2019 sos_Oday_CESM2_piControl_r1i1p1f1_gr_07000102-08000101.nc\n",
      "-rw-rw-r-- 1  1682 climatew 8.9G Mar  9  2019 sos_Oday_CESM2_piControl_r1i1p1f1_gr_08000102-09000101.nc\n",
      "-rw-rw-r-- 1  1682 climatew 8.9G Mar  9  2019 sos_Oday_CESM2_piControl_r1i1p1f1_gr_09000102-10000101.nc\n",
      "-rw-rw-r-- 1  1682 climatew 8.9G Mar  9  2019 sos_Oday_CESM2_piControl_r1i1p1f1_gr_10000102-11000101.nc\n",
      "-rw-rw-r-- 1  1682 climatew 8.9G Mar  9  2019 sos_Oday_CESM2_piControl_r1i1p1f1_gr_11000102-12000101.nc\n",
      "-rw-rw-r-- 1  1682 climatew  91M Mar  9  2019 sos_Oday_CESM2_piControl_r1i1p1f1_gr_12000102-12010101.nc\n"
     ]
    }
   ],
   "source": [
    "!ls -alh /p/css03/esgf_publish/CMIP6/CMIP/NCAR/CESM2/piControl/r1i1p1f1/Oday/sos/gr/v20190320/"
   ]
  },
  {
   "cell_type": "code",
   "execution_count": 8,
   "id": "48ba0f41-aa9d-46ac-9b6e-9dcbdb88deb6",
   "metadata": {},
   "outputs": [
    {
     "name": "stdout",
     "output_type": "stream",
     "text": [
      "37G\t/p/css03/esgf_publish/CMIP6/CMIP/CCCma/CanESM5-1/piControl/r1i1p1f1/Omon/so/gn/v20190429/\n",
      "37G\ttotal\n"
     ]
    }
   ],
   "source": [
    "!du -shc /p/css03/esgf_publish/CMIP6/CMIP/CCCma/CanESM5-1/piControl/r1i1p1f1/Omon/so/gn/v20190429/"
   ]
  },
  {
   "cell_type": "code",
   "execution_count": null,
   "id": "feb0d7f6-d16e-4cec-934d-ca569b178b01",
   "metadata": {},
   "outputs": [],
   "source": []
  }
 ],
 "metadata": {
  "kernelspec": {
   "display_name": "Python 3 (ipykernel)",
   "language": "python",
   "name": "python3"
  },
  "language_info": {
   "codemirror_mode": {
    "name": "ipython",
    "version": 3
   },
   "file_extension": ".py",
   "mimetype": "text/x-python",
   "name": "python",
   "nbconvert_exporter": "python",
   "pygments_lexer": "ipython3",
   "version": "3.11.7"
  }
 },
 "nbformat": 4,
 "nbformat_minor": 5
}

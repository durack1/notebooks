{
 "cells": [
  {
   "cell_type": "markdown",
   "id": "da99daa9-8250-4114-b651-aed3d542712b",
   "metadata": {},
   "source": [
    "# Collect various ocean observations"
   ]
  },
  {
   "cell_type": "code",
   "execution_count": null,
   "id": "696aaea1-62ee-4854-ba6c-001638cedc6b",
   "metadata": {},
   "outputs": [],
   "source": [
    "WOD profiles\n",
    "https://www.ncei.noaa.gov/data/oceans/ncei/wod/\n",
    "https://www.ncei.noaa.gov/access/metadata/landing-page/bin/iso?id=gov.noaa.nodc:NCEI-WOD\n",
    "https://www.ncei.noaa.gov/products/world-ocean-database\n",
    "\n",
    "USGODAE Argo\n",
    "https://usgodae.org/pub/outgoing/argo/ar_greylist.txt\n",
    "http://www.argodatamgt.org/Access-to-data/Argo-GDAC-ftp-https-and-s3-servers\n",
    "https://argo.ucsd.edu/data/data-from-gdacs/\n"
   ]
  }
 ],
 "metadata": {
  "kernelspec": {
   "display_name": "Python 3 (ipykernel)",
   "language": "python",
   "name": "python3"
  },
  "language_info": {
   "codemirror_mode": {
    "name": "ipython",
    "version": 3
   },
   "file_extension": ".py",
   "mimetype": "text/x-python",
   "name": "python",
   "nbconvert_exporter": "python",
   "pygments_lexer": "ipython3",
   "version": "3.11.7"
  }
 },
 "nbformat": 4,
 "nbformat_minor": 5
}

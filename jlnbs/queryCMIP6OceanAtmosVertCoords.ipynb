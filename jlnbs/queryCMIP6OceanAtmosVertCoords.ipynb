{
 "cells": [
  {
   "cell_type": "markdown",
   "id": "9e2f00af-3524-4471-9e30-002c7bee2375",
   "metadata": {},
   "source": [
    "# Query CMIP6 ocean/atmos vert coords - native/CMIP6_CVs vs output"
   ]
  },
  {
   "cell_type": "markdown",
   "id": "af2264a0-78f6-4a37-a7f0-546165443ed9",
   "metadata": {},
   "source": [
    "# Notes"
   ]
  },
  {
   "cell_type": "raw",
   "id": "5048d55e-4cb1-418f-9940-e7c4d88792f9",
   "metadata": {},
   "source": [
    "PJD 15 May 2024 - updated to poll atmos coordinates CMIP6:historical:Amon:cl\n",
    "PJD 15 May 2024 - updated to catch ALL atmos models, rather than starting at index 22"
   ]
  },
  {
   "cell_type": "markdown",
   "id": "98735b2e-6efd-47f6-9561-033911506c9d",
   "metadata": {},
   "source": [
    "## imports"
   ]
  },
  {
   "cell_type": "code",
   "execution_count": 1,
   "id": "d1bfe5c3-336d-4e04-a266-f3b3cf7b7585",
   "metadata": {},
   "outputs": [
    {
     "name": "stdout",
     "output_type": "stream",
     "text": [
      "CPU times: user 5.92 s, sys: 1.62 s, total: 7.54 s\n",
      "Wall time: 5.89 s\n"
     ]
    }
   ],
   "source": [
    "%%time\n",
    "import glob\n",
    "import json\n",
    "import os\n",
    "os.sys.path.insert(0, \"/p/user_pub/xclim/persist/software/xsearch/\")\n",
    "import xcdat as xc\n",
    "import xsearch as xs\n",
    "\n",
    "import logging\n",
    "logging.getLogger(\"xcdat\").setLevel(logging.ERROR)"
   ]
  },
  {
   "cell_type": "markdown",
   "id": "ffd3241e-4262-49d6-816e-d0a555fc4479",
   "metadata": {},
   "source": [
    "## read CMIP6_source_id.json"
   ]
  },
  {
   "cell_type": "code",
   "execution_count": 2,
   "id": "39b2fbb6-8854-41dd-8a40-c8c4babd3411",
   "metadata": {},
   "outputs": [
    {
     "name": "stdout",
     "output_type": "stream",
     "text": [
      "CPU times: user 1.15 ms, sys: 2.04 ms, total: 3.19 ms\n",
      "Wall time: 13 ms\n"
     ]
    },
    {
     "data": {
      "text/plain": [
       "dict_keys(['4AOP-v1-5', 'ACCESS-CM2', 'ACCESS-ESM1-5', 'ACCESS-OM2', 'ACCESS-OM2-025', 'ARTS-2-3', 'AWI-CM-1-1-HR', 'AWI-CM-1-1-LR', 'AWI-CM-1-1-MR', 'AWI-ESM-1-1-LR', 'AWI-ESM-1-REcoM', 'AWI-ESM-2-1-LR', 'BCC-CSM2-HR', 'BCC-CSM2-MR', 'BCC-ESM1', 'CAM-MPAS-HR', 'CAM-MPAS-LR', 'CAMS-CSM1-0', 'CAS-ESM2-0', 'CESM1-1-CAM5-CMIP5', 'CESM1-CAM5-SE-HR', 'CESM1-CAM5-SE-LR', 'CESM1-WACCM-SC', 'CESM2', 'CESM2-FV2', 'CESM2-WACCM', 'CESM2-WACCM-FV2', 'CIESM', 'CMCC-CM2-HR4', 'CMCC-CM2-SR5', 'CMCC-CM2-VHR4', 'CMCC-ESM2', 'CNRM-CM6-1', 'CNRM-CM6-1-HR', 'CNRM-ESM2-1', 'CanESM5', 'CanESM5-1', 'CanESM5-CanOE', 'E3SM-1-0', 'E3SM-1-1', 'E3SM-1-1-ECA', 'E3SM-2-0', 'E3SM-2-0-NARRM', 'E3SM-2-1', 'EC-Earth3', 'EC-Earth3-AerChem', 'EC-Earth3-CC', 'EC-Earth3-ESM-1', 'EC-Earth3-GrIS', 'EC-Earth3-HR', 'EC-Earth3-LR', 'EC-Earth3-Veg', 'EC-Earth3-Veg-LR', 'EC-Earth3P', 'EC-Earth3P-HR', 'EC-Earth3P-VHR', 'ECMWF-IFS-HR', 'ECMWF-IFS-LR', 'ECMWF-IFS-MR', 'FGOALS-f3-H', 'FGOALS-f3-L', 'FGOALS-g3', 'FIO-ESM-2-0', 'GFDL-AM4', 'GFDL-CM4', 'GFDL-CM4C192', 'GFDL-ESM2M', 'GFDL-ESM4', 'GFDL-GRTCODE', 'GFDL-OM4p5B', 'GFDL-RFM-DISORT', 'GISS-E2-1-G', 'GISS-E2-1-G-CC', 'GISS-E2-1-H', 'GISS-E2-2-G', 'GISS-E2-2-H', 'GISS-E3-G', 'HadGEM3-GC31-HH', 'HadGEM3-GC31-HM', 'HadGEM3-GC31-LL', 'HadGEM3-GC31-LM', 'HadGEM3-GC31-MH', 'HadGEM3-GC31-MM', 'HiRAM-SIT-HR', 'HiRAM-SIT-LR', 'ICON-ESM-LR', 'IITM-ESM', 'INM-CM4-8', 'INM-CM5-0', 'INM-CM5-H', 'IPSL-CM5A2-INCA', 'IPSL-CM6A-ATM-HR', 'IPSL-CM6A-ATM-ICO-HR', 'IPSL-CM6A-ATM-ICO-LR', 'IPSL-CM6A-ATM-ICO-MR', 'IPSL-CM6A-ATM-ICO-VHR', 'IPSL-CM6A-ATM-LR-REPROBUS', 'IPSL-CM6A-LR', 'IPSL-CM6A-LR-INCA', 'IPSL-CM6A-MR1', 'KACE-1-0-G', 'KIOST-ESM', 'LBLRTM-12-8', 'MCM-UA-1-0', 'MIROC-ES2H', 'MIROC-ES2H-NB', 'MIROC-ES2L', 'MIROC6', 'MPI-ESM-1-2-HAM', 'MPI-ESM1-2-HR', 'MPI-ESM1-2-LR', 'MPI-ESM1-2-XR', 'MRI-AGCM3-2-H', 'MRI-AGCM3-2-S', 'MRI-ESM2-0', 'NESM3', 'NICAM16-7S', 'NICAM16-8S', 'NICAM16-9S', 'NorCPM1', 'NorESM1-F', 'NorESM2-LM', 'NorESM2-MM', 'PCMDI-test-1-0', 'RRTMG-LW-4-91', 'RRTMG-SW-4-02', 'RTE-RRTMGP-181204', 'SAM0-UNICON', 'TaiESM1', 'TaiESM1-TIMCOM', 'TaiESM1-TIMCOM2', 'UKESM1-0-LL', 'UKESM1-1-LL', 'UKESM1-ice-LL'])"
      ]
     },
     "execution_count": 2,
     "metadata": {},
     "output_type": "execute_result"
    }
   ],
   "source": [
    "%%time\n",
    "path = \"/home/durack1/git/CMIP6_CVs\"\n",
    "file = \"CMIP6_source_id.json\"\n",
    "with open(os.path.join(path, file), 'r') as f:\n",
    "    js = json.load(f)\n",
    "js.keys()\n",
    "srcIds = js[\"source_id\"]\n",
    "srcIds.keys()"
   ]
  },
  {
   "cell_type": "markdown",
   "id": "5b201470-8ac8-4da4-84df-66ca5df96ea2",
   "metadata": {},
   "source": [
    "# Ocean"
   ]
  },
  {
   "cell_type": "markdown",
   "id": "9dddbfa5-ab56-433b-8987-c87548775748",
   "metadata": {},
   "source": [
    "## extract ocean level info"
   ]
  },
  {
   "cell_type": "code",
   "execution_count": 3,
   "id": "d3871884-e2a4-4d39-a959-c8249c66e6f8",
   "metadata": {},
   "outputs": [],
   "source": [
    "native = {}\n",
    "for count, srcId in enumerate(srcIds):\n",
    "    tmp = srcIds[srcId][\"model_component\"][\"ocean\"][\"description\"]\n",
    "    tmp = tmp.split(\";\")\n",
    "    for val in tmp:\n",
    "        if \"levels\" in val:\n",
    "            #print(srcId, val[:3])\n",
    "            native[srcId] = int(val[:3])"
   ]
  },
  {
   "cell_type": "markdown",
   "id": "7658cd31-dd0d-49c3-a51a-e306cb1a7ac8",
   "metadata": {},
   "source": [
    "## search for thetao"
   ]
  },
  {
   "cell_type": "code",
   "execution_count": 4,
   "id": "ff302c39-204f-4bd1-9585-4d900c1927b3",
   "metadata": {},
   "outputs": [
    {
     "name": "stdout",
     "output_type": "stream",
     "text": [
      "CPU times: user 49.3 ms, sys: 5.09 ms, total: 54.4 ms\n",
      "Wall time: 95.2 ms\n"
     ]
    }
   ],
   "source": [
    "%%time\n",
    "dpaths = xs.findPaths('historical', 'thetao', 'mon', realm='ocean', cmipTable='Omon', deduplicate=True)\n",
    "#for count, sim in enumerate(dpaths):\n",
    "#    print(\"{:03d}\".format(count), sim)\n",
    "#print(dpaths.keys())\n",
    "#sims = xs.getValuesForFacet(dpaths, 'model', 'IPSL-CM5A2-INCA') ## 'E3SM-2-0')  # also E3SM-1-0 (E3SM-Project (1-5), UCSB, E3SM-Project), E3SM-1-1 + ECA, E3SM-2-0-NARRM\n",
    "#sims"
   ]
  },
  {
   "cell_type": "code",
   "execution_count": 5,
   "id": "495c3ded-f46e-464a-9fcb-e87873b6ff84",
   "metadata": {
    "jupyter": {
     "source_hidden": true
    },
    "scrolled": true
   },
   "outputs": [
    {
     "name": "stdout",
     "output_type": "stream",
     "text": [
      "0 ACCESS-CM2 ['r1i1p1f1'] output: 50 reported native: 50 \n",
      "1 ACCESS-ESM1-5 ['r1i1p1f1'] output: 50 reported native: 50 \n",
      "2 AWI-CM-1-1-MR ['r1i1p1f1'] output: 46 reported native: 46 \n",
      "3 AWI-ESM-1-1-LR ['r1i1p1f1'] output: 46 reported native: 46 \n",
      "4 BCC-CSM2-MR ['r1i1p1f1'] output: 40 reported native: 40 \n",
      "5 BCC-ESM1 ['r1i1p1f1'] output: 40 reported native: 40 \n",
      "6 CAMS-CSM1-0 ['r1i1p1f1'] output: 50 reported native: 50 \n",
      "7 CanESM5 ['r1i1p1f1'] output: 45 reported native: 45 \n",
      "8 CanESM5-1 ['r1i1p1f1'] output: 45 reported native: 45 \n",
      "9 CanESM5-CanOE ['r1i1p2f1'] output: 45 reported native: 45 \n",
      "10 CAS-ESM2-0 ['r1i1p1f1'] output: 30 reported native: 30 \n",
      "11 CESM2 ['r1i1p1f1'] output: 33 reported native: 60 -- decimated --\n"
     ]
    },
    {
     "name": "stderr",
     "output_type": "stream",
     "text": [
      "/home/durack1/mambaforge/envs/xcd061nctax/lib/python3.11/site-packages/xarray/conventions.py:436: SerializationWarning: variable 'thetao' has multiple fill values {1e+20, 1e+20}, decoding all values to NaN.\n",
      "  new_vars[k] = decode_cf_variable(\n"
     ]
    },
    {
     "name": "stdout",
     "output_type": "stream",
     "text": [
      "12 CESM2-FV2 ['r1i1p1f1'] output: 33 reported native: 60 -- decimated --\n",
      "13 CESM2-WACCM ['r1i1p1f1'] output: 33 reported native: 60 -- decimated --\n",
      "14 CESM2-WACCM-FV2 ['r1i1p1f1'] output: 33 reported native: 60 -- decimated --\n",
      "15 CIESM ['r1i1p1f1'] output: 60 reported native: 46 -- misreported --\n",
      "16 CMCC-CM2-HR4 ['r1i1p1f1'] output: 50 reported native: 50 \n",
      "17 CMCC-CM2-SR5 ['r1i1p1f1'] output: 50 reported native: 50 \n",
      "18 CMCC-ESM2 ['r1i1p1f1'] output: 50 reported native: 50 \n",
      "19 CNRM-CM6-1 ['r1i1p1f2'] output: 75 reported native: 75 \n",
      "20 CNRM-CM6-1-HR ['r1i1p1f2'] output: 75 reported native: 75 \n",
      "21 CNRM-ESM2-1 ['r1i1p1f2'] output: 75 reported native: 75 \n",
      "22 E3SM-1-0 ['r1i1p1f1'] output: 60 reported native: 60 \n",
      "23 E3SM-1-1 ['r1i1p1f1'] output: 60 reported native: 60 \n",
      "24 E3SM-1-1-ECA ['r1i1p1f1'] output: 60 reported native: 60 \n",
      "25 E3SM-2-0 ['r1i1p1f1'] output: 60 reported native: 60 \n",
      "26 E3SM-2-0-NARRM ['r1i1p1f1'] output: 60 reported native: 60 \n",
      "27 EC-Earth3 ['r1i1p1f1'] output: 75 reported native: 75 \n",
      "28 EC-Earth3-AerChem ['r1i1p1f1'] output: 75 reported native: 75 \n",
      "29 EC-Earth3-CC ['r1i1p1f1'] output: 75 reported native: 75 \n",
      "30 EC-Earth3-Veg ['r1i1p1f1'] output: 75 reported native: 75 \n",
      "31 EC-Earth3-Veg-LR ['r1i1p1f1'] output: 75 reported native: 75 \n",
      "32 FGOALS-f3-L ['r1i1p1f1'] output: 30 reported native: 30 \n",
      "33 FGOALS-g3 ['r1i1p1f1'] output: 30 reported native: 30 \n",
      "34 FIO-ESM-2-0 ['r1i1p1f1'] output: 60 reported native: 60 \n",
      "35 GFDL-CM4 ['r1i1p1f1'] output: 35 reported native: 75 -- decimated --\n",
      "36 GFDL-ESM4 ['r1i1p1f1'] output: 35 reported native: 75 -- decimated --\n",
      "37 GISS-E2-1-G ['r1i1p1f1'] output: 40 reported native: 40 \n",
      "38 GISS-E2-1-H ['r1i1p1f1'] output: 33 reported native: 33 \n",
      "39 GISS-E2-2-G ['r1i1p1f1'] output: 40 reported native: 40 \n",
      "40 GISS-E2-2-H ['r1i1p1f1'] output: 33 reported native: 33 \n",
      "41 HadGEM3-GC31-LL ['r1i1p1f3'] output: 75 reported native: 75 \n",
      "42 HadGEM3-GC31-MM ['r1i1p1f3'] output: 75 reported native: 75 \n",
      "43 ICON-ESM-LR ['r1i1p1f1'] output: 64 reported native: 40 -- misreported --\n",
      "44 INM-CM4-8 ['r1i1p1f1'] output: 33 reported native: 40 -- decimated --\n",
      "45 INM-CM5-0 ['r1i1p1f1'] output: 33 reported native: 40 -- decimated --\n",
      "46 IPSL-CM5A2-INCA ['r1i1p1f1'] output: 31 reported native: 31 \n",
      "47 IPSL-CM6A-LR ['r1i1p1f1'] output: 75 reported native: 75 \n",
      "48 IPSL-CM6A-LR-INCA ['r1i1p1f1'] output: 75 reported native: 75 \n",
      "49 KIOST-ESM ['r1i1p1f1'] output: 52 reported native: 52 \n",
      "50 MCM-UA-1-0 ['r1i1p1f1'] output: 18 reported native: 18 \n",
      "51 MIROC6 ['r1i1p1f1'] output: 63 reported native: 63 \n",
      "52 MIROC-ES2H ['r1i1p4f2'] output: 63 reported native: 63 \n",
      "53 MIROC-ES2L ['r1i1p1f2'] output: 63 reported native: 63 \n",
      "54 MPI-ESM1-2-HR ['r1i1p1f1'] output: 40 reported native: 40 \n",
      "55 MPI-ESM1-2-LR ['r1i1p1f1'] output: 40 reported native: 40 \n",
      "56 MPI-ESM-1-2-HAM ['r1i1p1f1'] output: 40 reported native: 40 \n",
      "57 MRI-ESM2-0 ['r1i1p1f1'] output: 61 reported native: 61 \n",
      "58 NESM3 ['r1i1p1f1'] output: 46 reported native: 46 \n",
      "59 NorCPM1 ['r1i1p1f1'] output: 35 reported native: 53 -- decimated --\n",
      "60 NorESM2-LM ['r1i1p1f1'] output: 70 reported native: 70 \n",
      "61 NorESM2-MM ['r1i1p1f1'] output: 53 reported native: 70 -- decimated --\n",
      "62 SAM0-UNICON ['r1i1p1f1'] output: 60 reported native: 60 \n",
      "63 TaiESM1 ['r1i1p1f1'] output: 60 reported native: 60 \n",
      "64 UKESM1-0-LL ['r1i1p1f2'] output: 75 reported native: 75 \n",
      "65 UKESM1-1-LL ['r1i1p1f2'] output: 75 reported native: 75 \n",
      "[50, 50, 46, 46, 40, 40, 50, 45, 45, 45, 30, 33, 33, 33, 33, 60, 50, 50, 50, 75, 75, 75, 60, 60, 60, 60, 60, 75, 75, 75, 75, 75, 30, 30, 60, 35, 35, 40, 33, 40, 33, 75, 75, 64, 33, 33, 31, 75, 75, 52, 18, 63, 63, 63, 40, 40, 40, 61, 46, 35, 70, 53, 60, 60, 75, 75]\n",
      "CPU times: user 2.37 s, sys: 616 ms, total: 2.99 s\n",
      "Wall time: 41.3 s\n"
     ]
    }
   ],
   "source": [
    "%%time\n",
    "exp = \"historical\"\n",
    "var = \"thetao\"\n",
    "freq = \"mon\"\n",
    "cmipTable = \"Omon\"\n",
    "mipEra = \"CMIP6\"\n",
    "firstMemberOnly = True\n",
    "\n",
    "dpaths = xs.findPaths(exp, var, freq, cmipTable=cmipTable, mip_era=mipEra)\n",
    "models = xs.natural_sort(xs.getGroupValues(dpaths, 'model'))\n",
    "#print('models:', models)\n",
    "#print('number of models:', len(models))\n",
    "\n",
    "badFilesTime = [\n",
    "    \"/p/css03/esgf_publish/CMIP6/CMIP/EC-Earth-Consortium/EC-Earth3-AerChem/historical/r1i1p1f1/Omon/thetao/gn/v20200624/thetao_Omon_EC-Earth3-AerChem_historical_r1i1p1f1_gn_185001-185012.nc\",\n",
    "    \"/p/css03/esgf_publish/CMIP6/CMIP/EC-Earth-Consortium/EC-Earth3-CC/historical/r1i1p1f1/Omon/thetao/gn/v20210113/thetao_Omon_EC-Earth3-CC_historical_r1i1p1f1_gn_185001-185012.nc\",\n",
    "    \"/p/css03/esgf_publish/CMIP6/CMIP/EC-Earth-Consortium/EC-Earth3-Veg-LR/historical/r1i1p1f1/Omon/thetao/gn/v20200919/thetao_Omon_EC-Earth3-Veg-LR_historical_r1i1p1f1_gn_185001-185012.nc\",\n",
    "    \"/p/css03/esgf_publish/CMIP6/CMIP/EC-Earth-Consortium/EC-Earth3-Veg/historical/r1i1p1f1/Omon/thetao/gn/v20211207/thetao_Omon_EC-Earth3-Veg_historical_r1i1p1f1_gn_185001-185012.nc\",\n",
    "    \"/p/css03/scratch/cmip6/CMIP/CAS/FGOALS-f3-L/historical/r1i1p1f1/Omon/thetao/gn/v20191007/thetao_Omon_FGOALS-f3-L_historical_r1i1p1f1_gn_185001-189912.nc\",\n",
    "];\n",
    "\n",
    "aveLvls = []\n",
    "\n",
    "for count, model in enumerate(models):\n",
    "    dpaths_model = xs.retainDataByFacetValue(dpaths, 'model', model)\n",
    "    members = xs.natural_sort(xs.getGroupValues(dpaths_model, 'member'))\n",
    "    if firstMemberOnly:\n",
    "        members = members[0:1]\n",
    "    #print(count, model, members)\n",
    "    for member in members:\n",
    "        dpaths_model_member_list = xs.getValuesForFacet(dpaths_model, 'member', member)\n",
    "        if len(dpaths_model_member_list) > 1:\n",
    "            print('Error: multiple paths detected for ', model, member, ': ', dpaths_model_member_list)\n",
    "        else:\n",
    "            dpath = dpaths_model_member_list[0]\n",
    "            ncfile = xs.natural_sort(glob.glob(os.path.join(dpath, '*.nc')))[0]\n",
    "        # now poll vertical axis\n",
    "        ds = xc.open_dataset(ncfile, decode_times=False)\n",
    "        z = xc.get_dim_coords(ds, \"Z\")\n",
    "        natZ = int(native[model])\n",
    "        if natZ < len(z):\n",
    "            s = \"-- misreported --\"\n",
    "        elif len(z) != natZ:\n",
    "            s = \"-- decimated --\"\n",
    "\n",
    "        else:\n",
    "            s = \"\"\n",
    "        print(count, model, members, \"output:\", len(z), \"reported native:\", natZ, s)\n",
    "        aveLvls.append(len(z))\n",
    "\n",
    "print(aveLvls)"
   ]
  },
  {
   "cell_type": "code",
   "execution_count": 6,
   "id": "9d4df3ee-b4c3-408f-b33a-baf918a5e8f2",
   "metadata": {},
   "outputs": [
    {
     "name": "stdout",
     "output_type": "stream",
     "text": [
      "Average ocean levels: 53\n"
     ]
    }
   ],
   "source": [
    "print(\"Average ocean levels:\", (sum(aveLvls) // len(aveLvls) + 1))"
   ]
  },
  {
   "cell_type": "markdown",
   "id": "ce7fcfa3-e98f-408d-a44d-4633c8363351",
   "metadata": {},
   "source": [
    "# Atmos"
   ]
  },
  {
   "cell_type": "markdown",
   "id": "4b026691-6123-4f9f-965d-27e2d71dfa89",
   "metadata": {},
   "source": [
    "## extract atmos level info"
   ]
  },
  {
   "cell_type": "code",
   "execution_count": 7,
   "id": "0f3f522a-8471-4065-8bba-89abae958b0f",
   "metadata": {},
   "outputs": [
    {
     "name": "stdout",
     "output_type": "stream",
     "text": [
      "0 4AOP-v1-5 none\n",
      "3 ACCESS-OM2 none\n",
      "4 ACCESS-OM2-025 none\n",
      "5 ARTS-2-3 none\n",
      "68 GFDL-GRTCODE none\n",
      "69 GFDL-OM4p5B none\n",
      "70 GFDL-RFM-DISORT none\n",
      "102 LBLRTM-12-8 none\n",
      "124 RRTMG-LW-4-91 none\n",
      "125 RRTMG-SW-4-02 none\n",
      "126 RTE-RRTMGP-181204 none\n"
     ]
    }
   ],
   "source": [
    "native = {}\n",
    "counter = 1\n",
    "for count, srcId in enumerate(srcIds):\n",
    "    tmp = srcIds[srcId][\"model_component\"][\"atmos\"][\"description\"]\n",
    "    if tmp == \"none\":\n",
    "        print(count, srcId, \"none\")\n",
    "        continue\n",
    "    tmp = tmp.split(\";\")\n",
    "    for val in tmp:\n",
    "        #print(srcId, val)\n",
    "        if \"levels\" in val:\n",
    "            #print(count, val)\n",
    "            native[srcId] = int(val[:3])\n",
    "        elif \"72 vertical layers\" in val:  # fudge E3SM-2-0, E3SM-2-1\n",
    "            #print(count, srcId, val)\n",
    "            native[srcId] = 72\n",
    "        elif \". 72 vertical layers \" in val:  # E3SM-2-0-NARRM\n",
    "            #print(count, srcId, val)\n",
    "            native[srcId] = 72"
   ]
  },
  {
   "cell_type": "markdown",
   "id": "a640bfd2-e4f6-4802-b1b0-c9cb7b399a6e",
   "metadata": {},
   "source": [
    "## search for cl"
   ]
  },
  {
   "cell_type": "code",
   "execution_count": 8,
   "id": "fc9face3-75ee-45e8-9873-f6520b206782",
   "metadata": {
    "jupyter": {
     "source_hidden": true
    }
   },
   "outputs": [
    {
     "name": "stdout",
     "output_type": "stream",
     "text": [
      "0 ACCESS-CM2 ['r1i1p1f1'] output: 85 reported native: 85 \n",
      "1 ACCESS-ESM1-5 ['r1i1p1f1'] output: 38 reported native: 38 \n",
      "2 AWI-ESM-1-1-LR ['r1i1p1f1'] output: 47 reported native: 47 \n",
      "3 BCC-CSM2-MR ['r1i1p1f1'] output: 46 reported native: 46 \n",
      "4 BCC-ESM1 ['r1i1p1f1'] output: 26 reported native: 26 \n",
      "5 CAMS-CSM1-0 ['r1i1p1f1'] output: 31 reported native: 31 \n",
      "6 CanESM5 ['r1i1p1f1'] output: 49 reported native: 49 \n",
      "7 CanESM5-1 ['r1i1p1f1'] output: 49 reported native: 49 \n",
      "8 CAS-ESM2-0 ['r1i1p1f1'] output: 35 reported native: 35 \n",
      "9 CESM2 ['r1i1p1f1'] output: 32 reported native: 32 \n"
     ]
    },
    {
     "name": "stderr",
     "output_type": "stream",
     "text": [
      "/home/durack1/mambaforge/envs/xcd061nctax/lib/python3.11/site-packages/xarray/conventions.py:436: SerializationWarning: variable 'cl' has multiple fill values {1e+20, 1e+20}, decoding all values to NaN.\n",
      "  new_vars[k] = decode_cf_variable(\n"
     ]
    },
    {
     "name": "stdout",
     "output_type": "stream",
     "text": [
      "10 CESM2-FV2 ['r1i1p1f1'] output: 32 reported native: 32 \n",
      "11 CESM2-WACCM ['r1i1p1f1'] output: 70 reported native: 70 \n",
      "12 CESM2-WACCM-FV2 ['r1i1p1f1'] output: 70 reported native: 70 \n",
      "13 CIESM ['r1i1p1f1'] output: 30 reported native: 30 \n",
      "14 CMCC-CM2-HR4 ['r1i1p1f1'] output: 26 reported native: 26 \n",
      "15 CMCC-CM2-SR5 ['r1i1p1f1'] output: 30 reported native: 30 \n",
      "16 CMCC-ESM2 ['r1i1p1f1'] output: 30 reported native: 30 \n",
      "17 CNRM-CM6-1 ['r1i1p1f2'] output: 91 reported native: 91 \n",
      "18 CNRM-CM6-1-HR ['r1i1p1f2'] output: 91 reported native: 91 \n",
      "19 CNRM-ESM2-1 ['r1i1p1f2'] output: 91 reported native: 91 \n",
      "20 E3SM-1-0 ['r1i1p1f1'] output: 72 reported native: 72 \n",
      "21 E3SM-1-1 ['r1i1p1f1'] output: 72 reported native: 72 \n",
      "22 E3SM-1-1-ECA ['r1i1p1f1'] output: 72 reported native: 72 \n",
      "23 E3SM-2-0 ['r1i1p1f1'] output: 72 reported native: 72 \n",
      "24 E3SM-2-0-NARRM ['r1i1p1f1'] output: 72 reported native: 72 \n",
      "25 EC-Earth3 ['r10i1p1f1'] output: 91 reported native: 91 \n",
      "26 EC-Earth3-AerChem ['r1i1p1f1'] output: 91 reported native: 91 \n",
      "27 FGOALS-f3-L ['r1i1p1f1'] output: 32 reported native: 32 \n",
      "28 FGOALS-g3 ['r1i1p1f1'] output: 26 reported native: 26 \n",
      "29 GFDL-CM4 ['r1i1p1f1'] output: 33 reported native: 33 \n",
      "30 GFDL-ESM4 ['r1i1p1f1'] output: 49 reported native: 49 \n",
      "31 GISS-E2-1-G ['r1i1p1f1'] output: 29 reported native: 40 -- decimated --\n",
      "32 GISS-E2-1-H ['r1i1p1f1'] output: 29 reported native: 40 -- decimated --\n",
      "33 GISS-E2-2-G ['r1i1p1f1'] output: 102 reported native: 10 -- misreported --\n",
      "34 GISS-E2-2-H ['r1i1p1f1'] output: 102 reported native: 10 -- misreported --\n",
      "35 HadGEM3-GC31-LL ['r1i1p1f3'] output: 85 reported native: 85 \n",
      "36 HadGEM3-GC31-MM ['r1i1p1f3'] output: 85 reported native: 85 \n",
      "37 IPSL-CM6A-LR ['r1i1p1f1'] output: 79 reported native: 79 \n",
      "38 IPSL-CM6A-LR-INCA ['r1i1p1f1'] output: 79 reported native: 79 \n",
      "39 KACE-1-0-G ['r1i1p1f1'] output: 85 reported native: 85 \n",
      "40 MCM-UA-1-0 ['r1i1p1f1'] output: 19 reported native: 14 -- misreported --\n",
      "41 MIROC6 ['r1i1p1f1'] output: 81 reported native: 81 \n",
      "42 MIROC-ES2H ['r1i1p1f2'] output: 81 reported native: 81 \n",
      "43 MIROC-ES2L ['r1i1p1f2'] output: 40 reported native: 40 \n",
      "44 MPI-ESM1-2-HR ['r1i1p1f1'] output: 95 reported native: 95 \n",
      "45 MPI-ESM1-2-LR ['r1i1p1f1'] output: 47 reported native: 47 \n",
      "46 MPI-ESM-1-2-HAM ['r1i1p1f1'] output: 47 reported native: 47 \n",
      "47 MRI-ESM2-0 ['r1i1p1f1'] output: 80 reported native: 80 \n",
      "48 NESM3 ['r1i1p1f1'] output: 47 reported native: 47 \n",
      "49 NorESM2-LM ['r1i1p1f1'] output: 32 reported native: 32 \n",
      "50 NorESM2-MM ['r1i1p1f1'] output: 32 reported native: 32 \n",
      "51 SAM0-UNICON ['r1i1p1f1'] output: 30 reported native: 30 \n",
      "52 TaiESM1 ['r1i1p1f1'] output: 30 reported native: 30 \n",
      "53 UKESM1-0-LL ['r1i1p1f2'] output: 85 reported native: 85 \n",
      "[85, 38, 47, 46, 26, 31, 49, 49, 35, 32, 32, 70, 70, 30, 26, 30, 30, 91, 91, 91, 72, 72, 72, 72, 72, 91, 91, 32, 26, 33, 49, 29, 29, 102, 102, 85, 85, 79, 79, 85, 19, 81, 81, 40, 95, 47, 47, 80, 47, 32, 32, 30, 30, 85]\n",
      "CPU times: user 1.53 s, sys: 521 ms, total: 2.05 s\n",
      "Wall time: 47.3 s\n"
     ]
    }
   ],
   "source": [
    "%%time\n",
    "exp = \"historical\"\n",
    "var = \"cl\"\n",
    "freq = \"mon\"\n",
    "cmipTable = \"Amon\"\n",
    "mipEra = \"CMIP6\"\n",
    "firstMemberOnly = True\n",
    "\n",
    "dpaths = xs.findPaths(exp, var, freq, cmipTable=cmipTable, mip_era=mipEra)\n",
    "models = xs.natural_sort(xs.getGroupValues(dpaths, 'model'))\n",
    "#print('models:', models)\n",
    "#print('number of models:', len(models))\n",
    "\n",
    "badFilesTime = [\n",
    "];\n",
    "\n",
    "aveLvls = []\n",
    "\n",
    "for count, model in enumerate(models):\n",
    "    #if model in [\"E3SM-2-0\", \"E3SM-2-0-NARRM\"]:\n",
    "    #    continue # problem with variable\n",
    "    dpaths_model = xs.retainDataByFacetValue(dpaths, 'model', model)\n",
    "    members = xs.natural_sort(xs.getGroupValues(dpaths_model, 'member'))\n",
    "    if firstMemberOnly:\n",
    "        members = members[0:1]\n",
    "    #print(count, model, members)\n",
    "    for member in members:\n",
    "        dpaths_model_member_list = xs.getValuesForFacet(dpaths_model, 'member', member)\n",
    "        if len(dpaths_model_member_list) > 1:\n",
    "            print('Error: multiple paths detected for ', model, member, ': ', dpaths_model_member_list)\n",
    "        else:\n",
    "            dpath = dpaths_model_member_list[0]\n",
    "            ncfile = xs.natural_sort(glob.glob(os.path.join(dpath, '*.nc')))[0]\n",
    "        # now poll vertical axis\n",
    "        ds = xc.open_dataset(ncfile, decode_times=False)\n",
    "        # deal with IPSL-CM6A-LR\n",
    "        if model == \"IPSL-CM6A-LR\":\n",
    "            z = ds[\"presnivs\"]\n",
    "        else:\n",
    "            z = xc.get_dim_coords(ds, \"Z\")\n",
    "        natZ = int(native[model])\n",
    "        if natZ < len(z):\n",
    "            s = \"-- misreported --\"\n",
    "        elif len(z) != natZ:\n",
    "            s = \"-- decimated --\"\n",
    "\n",
    "        else:\n",
    "            s = \"\"\n",
    "        print(count, model, members, \"output:\", len(z), \"reported native:\", natZ, s)\n",
    "        aveLvls.append(len(z))\n",
    "\n",
    "print(aveLvls)"
   ]
  },
  {
   "cell_type": "code",
   "execution_count": 9,
   "id": "6ad0fc12-c3bf-45fe-aa90-871d1e7aebb7",
   "metadata": {},
   "outputs": [
    {
     "name": "stdout",
     "output_type": "stream",
     "text": [
      "Average atmos levels: 58\n"
     ]
    }
   ],
   "source": [
    "print(\"Average atmos levels:\", (sum(aveLvls) // len(aveLvls) + 1))"
   ]
  }
 ],
 "metadata": {
  "kernelspec": {
   "display_name": "Python 3 (ipykernel)",
   "language": "python",
   "name": "python3"
  },
  "language_info": {
   "codemirror_mode": {
    "name": "ipython",
    "version": 3
   },
   "file_extension": ".py",
   "mimetype": "text/x-python",
   "name": "python",
   "nbconvert_exporter": "python",
   "pygments_lexer": "ipython3",
   "version": "3.11.7"
  }
 },
 "nbformat": 4,
 "nbformat_minor": 5
}

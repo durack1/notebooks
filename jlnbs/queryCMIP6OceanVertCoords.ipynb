{
 "cells": [
  {
   "cell_type": "markdown",
   "id": "9e2f00af-3524-4471-9e30-002c7bee2375",
   "metadata": {},
   "source": [
    "# Query CMIP6 ocean vert coords - native/CMIP6_CVs vs output"
   ]
  },
  {
   "cell_type": "code",
   "execution_count": 1,
   "id": "d1bfe5c3-336d-4e04-a266-f3b3cf7b7585",
   "metadata": {},
   "outputs": [
    {
     "name": "stdout",
     "output_type": "stream",
     "text": [
      "CPU times: user 5.99 s, sys: 1.71 s, total: 7.7 s\n",
      "Wall time: 5.89 s\n"
     ]
    }
   ],
   "source": [
    "%%time\n",
    "import glob\n",
    "import json\n",
    "import os\n",
    "os.sys.path.insert(0, \"/p/user_pub/xclim/persist/software/xsearch/\")\n",
    "import xcdat as xc\n",
    "import xsearch as xs\n",
    "\n",
    "import logging\n",
    "logging.getLogger(\"xcdat\").setLevel(logging.ERROR)"
   ]
  },
  {
   "cell_type": "markdown",
   "id": "ffd3241e-4262-49d6-816e-d0a555fc4479",
   "metadata": {},
   "source": [
    "## read CMIP6_source_id.json"
   ]
  },
  {
   "cell_type": "code",
   "execution_count": 2,
   "id": "39b2fbb6-8854-41dd-8a40-c8c4babd3411",
   "metadata": {},
   "outputs": [
    {
     "name": "stdout",
     "output_type": "stream",
     "text": [
      "CPU times: user 828 µs, sys: 2.66 ms, total: 3.49 ms\n",
      "Wall time: 2.6 ms\n"
     ]
    },
    {
     "data": {
      "text/plain": [
       "dict_keys(['4AOP-v1-5', 'ACCESS-CM2', 'ACCESS-ESM1-5', 'ACCESS-OM2', 'ACCESS-OM2-025', 'ARTS-2-3', 'AWI-CM-1-1-HR', 'AWI-CM-1-1-LR', 'AWI-CM-1-1-MR', 'AWI-ESM-1-1-LR', 'AWI-ESM-1-REcoM', 'AWI-ESM-2-1-LR', 'BCC-CSM2-HR', 'BCC-CSM2-MR', 'BCC-ESM1', 'CAM-MPAS-HR', 'CAM-MPAS-LR', 'CAMS-CSM1-0', 'CAS-ESM2-0', 'CESM1-1-CAM5-CMIP5', 'CESM1-CAM5-SE-HR', 'CESM1-CAM5-SE-LR', 'CESM1-WACCM-SC', 'CESM2', 'CESM2-FV2', 'CESM2-WACCM', 'CESM2-WACCM-FV2', 'CIESM', 'CMCC-CM2-HR4', 'CMCC-CM2-SR5', 'CMCC-CM2-VHR4', 'CMCC-ESM2', 'CNRM-CM6-1', 'CNRM-CM6-1-HR', 'CNRM-ESM2-1', 'CanESM5', 'CanESM5-1', 'CanESM5-CanOE', 'E3SM-1-0', 'E3SM-1-1', 'E3SM-1-1-ECA', 'E3SM-2-0', 'E3SM-2-0-NARRM', 'E3SM-2-1', 'EC-Earth3', 'EC-Earth3-AerChem', 'EC-Earth3-CC', 'EC-Earth3-GrIS', 'EC-Earth3-HR', 'EC-Earth3-LR', 'EC-Earth3-Veg', 'EC-Earth3-Veg-LR', 'EC-Earth3P', 'EC-Earth3P-HR', 'EC-Earth3P-VHR', 'ECMWF-IFS-HR', 'ECMWF-IFS-LR', 'ECMWF-IFS-MR', 'FGOALS-f3-H', 'FGOALS-f3-L', 'FGOALS-g3', 'FIO-ESM-2-0', 'GFDL-AM4', 'GFDL-CM4', 'GFDL-CM4C192', 'GFDL-ESM2M', 'GFDL-ESM4', 'GFDL-GRTCODE', 'GFDL-OM4p5B', 'GFDL-RFM-DISORT', 'GISS-E2-1-G', 'GISS-E2-1-G-CC', 'GISS-E2-1-H', 'GISS-E2-2-G', 'GISS-E2-2-H', 'GISS-E3-G', 'HadGEM3-GC31-HH', 'HadGEM3-GC31-HM', 'HadGEM3-GC31-LL', 'HadGEM3-GC31-LM', 'HadGEM3-GC31-MH', 'HadGEM3-GC31-MM', 'HiRAM-SIT-HR', 'HiRAM-SIT-LR', 'ICON-ESM-LR', 'IITM-ESM', 'INM-CM4-8', 'INM-CM5-0', 'INM-CM5-H', 'IPSL-CM5A2-INCA', 'IPSL-CM6A-ATM-HR', 'IPSL-CM6A-ATM-ICO-HR', 'IPSL-CM6A-ATM-ICO-LR', 'IPSL-CM6A-ATM-ICO-MR', 'IPSL-CM6A-ATM-ICO-VHR', 'IPSL-CM6A-ATM-LR-REPROBUS', 'IPSL-CM6A-LR', 'IPSL-CM6A-LR-INCA', 'IPSL-CM6A-MR1', 'KACE-1-0-G', 'KIOST-ESM', 'LBLRTM-12-8', 'MCM-UA-1-0', 'MIROC-ES2H', 'MIROC-ES2H-NB', 'MIROC-ES2L', 'MIROC6', 'MPI-ESM-1-2-HAM', 'MPI-ESM1-2-HR', 'MPI-ESM1-2-LR', 'MPI-ESM1-2-XR', 'MRI-AGCM3-2-H', 'MRI-AGCM3-2-S', 'MRI-ESM2-0', 'NESM3', 'NICAM16-7S', 'NICAM16-8S', 'NICAM16-9S', 'NorCPM1', 'NorESM1-F', 'NorESM2-LM', 'NorESM2-MM', 'PCMDI-test-1-0', 'RRTMG-LW-4-91', 'RRTMG-SW-4-02', 'RTE-RRTMGP-181204', 'SAM0-UNICON', 'TaiESM1', 'TaiESM1-TIMCOM', 'TaiESM1-TIMCOM2', 'UKESM1-0-LL', 'UKESM1-1-LL', 'UKESM1-ice-LL'])"
      ]
     },
     "execution_count": 2,
     "metadata": {},
     "output_type": "execute_result"
    }
   ],
   "source": [
    "%%time\n",
    "path = \"/home/durack1/git/CMIP6_CVs\"\n",
    "file = \"CMIP6_source_id.json\"\n",
    "with open(os.path.join(path, file), 'r') as f:\n",
    "    js = json.load(f)\n",
    "js.keys()\n",
    "srcIds = js[\"source_id\"]\n",
    "srcIds.keys()"
   ]
  },
  {
   "cell_type": "markdown",
   "id": "9dddbfa5-ab56-433b-8987-c87548775748",
   "metadata": {},
   "source": [
    "## extract ocean level info"
   ]
  },
  {
   "cell_type": "code",
   "execution_count": 4,
   "id": "d3871884-e2a4-4d39-a959-c8249c66e6f8",
   "metadata": {},
   "outputs": [],
   "source": [
    "native = {}\n",
    "for count, srcId in enumerate(srcIds):\n",
    "    tmp = srcIds[srcId][\"model_component\"][\"ocean\"][\"description\"]\n",
    "    tmp = tmp.split(\";\")\n",
    "    for val in tmp:\n",
    "        if \"levels\" in val:\n",
    "            #print(srcId, val[:3])\n",
    "            native[srcId] = int(val[:3])"
   ]
  },
  {
   "cell_type": "markdown",
   "id": "7658cd31-dd0d-49c3-a51a-e306cb1a7ac8",
   "metadata": {},
   "source": [
    "## search for thetao"
   ]
  },
  {
   "cell_type": "code",
   "execution_count": 5,
   "id": "ff302c39-204f-4bd1-9585-4d900c1927b3",
   "metadata": {},
   "outputs": [
    {
     "name": "stdout",
     "output_type": "stream",
     "text": [
      "CPU times: user 46.7 ms, sys: 4.9 ms, total: 51.6 ms\n",
      "Wall time: 72.4 ms\n"
     ]
    },
    {
     "data": {
      "text/plain": [
       "['/p/css03/esgf_publish/CMIP6/CMIP/IPSL/IPSL-CM5A2-INCA/historical/r1i1p1f1/Omon/thetao/gn/v20200729/']"
      ]
     },
     "execution_count": 5,
     "metadata": {},
     "output_type": "execute_result"
    }
   ],
   "source": [
    "%%time\n",
    "dpaths = xs.findPaths('historical', 'thetao', 'mon', realm='ocean', cmipTable='Omon', deduplicate=True)\n",
    "#for count, sim in enumerate(dpaths):\n",
    "#    print(\"{:03d}\".format(count), sim)\n",
    "#print(dpaths.keys())\n",
    "sims = xs.getValuesForFacet(dpaths, 'model', 'IPSL-CM5A2-INCA') ## 'E3SM-2-0')  # also E3SM-1-0 (E3SM-Project (1-5), UCSB, E3SM-Project), E3SM-1-1 + ECA, E3SM-2-0-NARRM\n",
    "sims"
   ]
  },
  {
   "cell_type": "code",
   "execution_count": 14,
   "id": "495c3ded-f46e-464a-9fcb-e87873b6ff84",
   "metadata": {},
   "outputs": [
    {
     "name": "stdout",
     "output_type": "stream",
     "text": [
      "0 ACCESS-CM2 ['r1i1p1f1'] output: 50 native: 50 \n",
      "1 ACCESS-ESM1-5 ['r1i1p1f1'] output: 50 native: 50 \n",
      "2 AWI-CM-1-1-MR ['r1i1p1f1'] output: 46 native: 46 \n",
      "3 AWI-ESM-1-1-LR ['r1i1p1f1'] output: 46 native: 46 \n",
      "4 BCC-CSM2-MR ['r1i1p1f1'] output: 40 native: 40 \n",
      "5 BCC-ESM1 ['r1i1p1f1'] output: 40 native: 40 \n",
      "6 CAMS-CSM1-0 ['r1i1p1f1'] output: 50 native: 50 \n",
      "7 CanESM5 ['r1i1p1f1'] output: 45 native: 45 \n",
      "8 CanESM5-1 ['r1i1p1f1'] output: 45 native: 45 \n",
      "9 CanESM5-CanOE ['r1i1p2f1'] output: 45 native: 45 \n",
      "10 CAS-ESM2-0 ['r1i1p1f1'] output: 30 native: 30 \n",
      "11 CESM2 ['r1i1p1f1'] output: 33 native: 60 decimated\n"
     ]
    },
    {
     "name": "stderr",
     "output_type": "stream",
     "text": [
      "/home/durack1/mambaforge/envs/xcd061nctax/lib/python3.11/site-packages/xarray/conventions.py:436: SerializationWarning: variable 'thetao' has multiple fill values {1e+20, 1e+20}, decoding all values to NaN.\n",
      "  new_vars[k] = decode_cf_variable(\n"
     ]
    },
    {
     "name": "stdout",
     "output_type": "stream",
     "text": [
      "12 CESM2-FV2 ['r1i1p1f1'] output: 33 native: 60 decimated\n",
      "13 CESM2-WACCM ['r1i1p1f1'] output: 33 native: 60 decimated\n",
      "14 CESM2-WACCM-FV2 ['r1i1p1f1'] output: 33 native: 60 decimated\n",
      "15 CIESM ['r1i1p1f1'] output: 60 native: 46 misreported\n",
      "16 CMCC-CM2-HR4 ['r1i1p1f1'] output: 50 native: 50 \n",
      "17 CMCC-CM2-SR5 ['r1i1p1f1'] output: 50 native: 50 \n",
      "18 CMCC-ESM2 ['r1i1p1f1'] output: 50 native: 50 \n",
      "19 CNRM-CM6-1 ['r1i1p1f2'] output: 75 native: 75 \n",
      "20 CNRM-CM6-1-HR ['r1i1p1f2'] output: 75 native: 75 \n",
      "21 CNRM-ESM2-1 ['r1i1p1f2'] output: 75 native: 75 \n",
      "22 E3SM-1-0 ['r1i1p1f1'] output: 60 native: 60 \n",
      "23 E3SM-1-1 ['r1i1p1f1'] output: 60 native: 60 \n",
      "24 E3SM-1-1-ECA ['r1i1p1f1'] output: 60 native: 60 \n",
      "25 E3SM-2-0 ['r1i1p1f1'] output: 60 native: 60 \n",
      "26 E3SM-2-0-NARRM ['r1i1p1f1'] output: 60 native: 60 \n",
      "27 EC-Earth3 ['r1i1p1f1'] output: 75 native: 75 \n",
      "28 EC-Earth3-AerChem ['r1i1p1f1'] output: 75 native: 75 \n",
      "29 EC-Earth3-CC ['r1i1p1f1'] output: 75 native: 75 \n",
      "30 EC-Earth3-Veg ['r1i1p1f1'] output: 75 native: 75 \n",
      "31 EC-Earth3-Veg-LR ['r1i1p1f1'] output: 75 native: 75 \n",
      "32 FGOALS-f3-L ['r1i1p1f1'] output: 30 native: 30 \n",
      "33 FGOALS-g3 ['r1i1p1f1'] output: 30 native: 30 \n",
      "34 FIO-ESM-2-0 ['r1i1p1f1'] output: 60 native: 60 \n",
      "35 GFDL-CM4 ['r1i1p1f1'] output: 35 native: 75 decimated\n",
      "36 GFDL-ESM4 ['r1i1p1f1'] output: 35 native: 75 decimated\n",
      "37 GISS-E2-1-G ['r1i1p1f1'] output: 40 native: 40 \n",
      "38 GISS-E2-1-H ['r1i1p1f1'] output: 33 native: 32 misreported\n",
      "39 GISS-E2-2-G ['r1i1p1f1'] output: 40 native: 40 \n",
      "40 GISS-E2-2-H ['r1i1p1f1'] output: 33 native: 32 misreported\n",
      "41 HadGEM3-GC31-LL ['r1i1p1f3'] output: 75 native: 75 \n",
      "42 HadGEM3-GC31-MM ['r1i1p1f3'] output: 75 native: 75 \n",
      "43 ICON-ESM-LR ['r1i1p1f1'] output: 64 native: 40 misreported\n",
      "44 INM-CM4-8 ['r1i1p1f1'] output: 33 native: 40 decimated\n",
      "45 INM-CM5-0 ['r1i1p1f1'] output: 33 native: 40 decimated\n",
      "46 IPSL-CM5A2-INCA ['r1i1p1f1'] output: 31 native: 31 \n",
      "47 IPSL-CM6A-LR ['r1i1p1f1'] output: 75 native: 75 \n",
      "48 IPSL-CM6A-LR-INCA ['r1i1p1f1'] output: 75 native: 75 \n",
      "49 KIOST-ESM ['r1i1p1f1'] output: 52 native: 52 \n",
      "50 MCM-UA-1-0 ['r1i1p1f1'] output: 18 native: 18 \n",
      "51 MIROC6 ['r1i1p1f1'] output: 63 native: 63 \n",
      "52 MIROC-ES2H ['r1i1p4f2'] output: 63 native: 63 \n",
      "53 MIROC-ES2L ['r1i1p1f2'] output: 63 native: 63 \n",
      "54 MPI-ESM1-2-HR ['r1i1p1f1'] output: 40 native: 40 \n",
      "55 MPI-ESM1-2-LR ['r1i1p1f1'] output: 40 native: 40 \n",
      "56 MPI-ESM-1-2-HAM ['r1i1p1f1'] output: 40 native: 40 \n",
      "57 MRI-ESM2-0 ['r1i1p1f1'] output: 61 native: 61 \n",
      "58 NESM3 ['r1i1p1f1'] output: 46 native: 46 \n",
      "59 NorCPM1 ['r1i1p1f1'] output: 35 native: 53 decimated\n",
      "60 NorESM2-LM ['r1i1p1f1'] output: 70 native: 70 \n",
      "61 NorESM2-MM ['r1i1p1f1'] output: 53 native: 70 decimated\n",
      "62 SAM0-UNICON ['r1i1p1f1'] output: 60 native: 60 \n",
      "63 TaiESM1 ['r1i1p1f1'] output: 60 native: 60 \n",
      "64 UKESM1-0-LL ['r1i1p1f2'] output: 75 native: 75 \n",
      "65 UKESM1-1-LL ['r1i1p1f2'] output: 75 native: 75 \n",
      "CPU times: user 2.1 s, sys: 582 ms, total: 2.69 s\n",
      "Wall time: 28.6 s\n"
     ]
    }
   ],
   "source": [
    "%%time\n",
    "exp = \"historical\"\n",
    "var = \"thetao\"\n",
    "freq = \"mon\"\n",
    "cmipTable = \"Omon\"\n",
    "mipEra = \"CMIP6\"\n",
    "firstMemberOnly = True\n",
    "\n",
    "dpaths = xs.findPaths(exp, var, freq, cmipTable=cmipTable, mip_era=mipEra)\n",
    "models = xs.natural_sort(xs.getGroupValues(dpaths, 'model'))\n",
    "#print('models:', models)\n",
    "#print('number of models:', len(models))\n",
    "\n",
    "badFilesTime = [\n",
    "    \"/p/css03/esgf_publish/CMIP6/CMIP/EC-Earth-Consortium/EC-Earth3-AerChem/historical/r1i1p1f1/Omon/thetao/gn/v20200624/thetao_Omon_EC-Earth3-AerChem_historical_r1i1p1f1_gn_185001-185012.nc\",\n",
    "    \"/p/css03/esgf_publish/CMIP6/CMIP/EC-Earth-Consortium/EC-Earth3-CC/historical/r1i1p1f1/Omon/thetao/gn/v20210113/thetao_Omon_EC-Earth3-CC_historical_r1i1p1f1_gn_185001-185012.nc\",\n",
    "    \"/p/css03/esgf_publish/CMIP6/CMIP/EC-Earth-Consortium/EC-Earth3-Veg-LR/historical/r1i1p1f1/Omon/thetao/gn/v20200919/thetao_Omon_EC-Earth3-Veg-LR_historical_r1i1p1f1_gn_185001-185012.nc\",\n",
    "    \"/p/css03/esgf_publish/CMIP6/CMIP/EC-Earth-Consortium/EC-Earth3-Veg/historical/r1i1p1f1/Omon/thetao/gn/v20211207/thetao_Omon_EC-Earth3-Veg_historical_r1i1p1f1_gn_185001-185012.nc\",\n",
    "    \"/p/css03/scratch/cmip6/CMIP/CAS/FGOALS-f3-L/historical/r1i1p1f1/Omon/thetao/gn/v20191007/thetao_Omon_FGOALS-f3-L_historical_r1i1p1f1_gn_185001-189912.nc\",\n",
    "];\n",
    "\n",
    "for count, model in enumerate(models):\n",
    "    dpaths_model = xs.retainDataByFacetValue(dpaths, 'model', model)\n",
    "    members = xs.natural_sort(xs.getGroupValues(dpaths_model, 'member'))\n",
    "    if firstMemberOnly:\n",
    "        members = members[0:1]\n",
    "    #print(count, model, members)\n",
    "    for member in members:\n",
    "        dpaths_model_member_list = xs.getValuesForFacet(dpaths_model, 'member', member)\n",
    "        if len(dpaths_model_member_list) > 1:\n",
    "            print('Error: multiple paths detected for ', model, member, ': ', dpaths_model_member_list)\n",
    "        else:\n",
    "            dpath = dpaths_model_member_list[0]\n",
    "            ncfile = xs.natural_sort(glob.glob(os.path.join(dpath, '*.nc')))[0]\n",
    "        # now poll vertical axis\n",
    "        ds = xc.open_dataset(ncfile, decode_times=False)\n",
    "        z = xc.get_dim_coords(ds, \"Z\")\n",
    "        natZ = int(native[model])\n",
    "        if natZ < len(z):\n",
    "            s = \"misreported\"\n",
    "        elif len(z) != natZ:\n",
    "            s = \"decimated\"\n",
    "\n",
    "        else:\n",
    "            s = \"\"\n",
    "        print(count, model, members, \"output:\", len(z), \"native:\", natZ, s)"
   ]
  }
 ],
 "metadata": {
  "kernelspec": {
   "display_name": "Python 3 (ipykernel)",
   "language": "python",
   "name": "python3"
  },
  "language_info": {
   "codemirror_mode": {
    "name": "ipython",
    "version": 3
   },
   "file_extension": ".py",
   "mimetype": "text/x-python",
   "name": "python",
   "nbconvert_exporter": "python",
   "pygments_lexer": "ipython3",
   "version": "3.11.7"
  }
 },
 "nbformat": 4,
 "nbformat_minor": 5
}

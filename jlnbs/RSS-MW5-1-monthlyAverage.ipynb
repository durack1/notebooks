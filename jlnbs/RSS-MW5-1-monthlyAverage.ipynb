{
 "cells": [
  {
   "cell_type": "markdown",
   "id": "33ded939-7e56-4412-98bf-e4ef7217b86f",
   "metadata": {},
   "source": [
    "# Calculate monthly mean data from daily inputs"
   ]
  },
  {
   "cell_type": "markdown",
   "id": "61c5cbe2-ca4c-4e0a-b49a-3b3801c29d80",
   "metadata": {},
   "source": [
    "## imports"
   ]
  },
  {
   "cell_type": "code",
   "execution_count": 4,
   "id": "f9706d3a-6ba0-4947-97dd-4285314d03e8",
   "metadata": {},
   "outputs": [],
   "source": [
    "import cartopy.crs as ccrs\n",
    "import matplotlib.pyplot as plt\n",
    "import os\n",
    "import xcdat as xc"
   ]
  },
  {
   "cell_type": "markdown",
   "id": "6303958e-aeb7-4956-a963-47ef1271bce9",
   "metadata": {},
   "source": [
    "# set data paths"
   ]
  },
  {
   "cell_type": "code",
   "execution_count": 5,
   "id": "6efe82fe-42e1-4162-8e01-424936c02473",
   "metadata": {},
   "outputs": [],
   "source": [
    "obsPath = \"/p/user_pub/PCMDIobs/obs4MIPs_input/RSS/RSS-MW5-1/v20230605/\""
   ]
  },
  {
   "cell_type": "markdown",
   "id": "081af53d-004f-4229-86b3-ec8026d8214a",
   "metadata": {},
   "source": [
    "# lazy load data"
   ]
  },
  {
   "cell_type": "code",
   "execution_count": 6,
   "id": "ed5d095e-942e-4963-b413-688d312b283a",
   "metadata": {},
   "outputs": [
    {
     "name": "stdout",
     "output_type": "stream",
     "text": [
      "dataPath: /p/user_pub/PCMDIobs/obs4MIPs_input/RSS/RSS-MW5-1/v20230605/*.nc\n"
     ]
    }
   ],
   "source": [
    "dataPath = os.path.join(obsPath, \"*.nc\")\n",
    "print(\"dataPath:\", dataPath)\n",
    "ds = xc.open_mfdataset(dataPath)"
   ]
  },
  {
   "cell_type": "markdown",
   "id": "8ad5e75b-4604-4a08-aa2f-27c05728437c",
   "metadata": {},
   "source": [
    "## view dataset"
   ]
  },
  {
   "cell_type": "code",
   "execution_count": null,
   "id": "4b076987-b771-41c8-ad2e-c00e5598b56f",
   "metadata": {},
   "outputs": [],
   "source": [
    "ds"
   ]
  }
 ],
 "metadata": {
  "kernelspec": {
   "display_name": "Python 3 (ipykernel)",
   "language": "python",
   "name": "python3"
  },
  "language_info": {
   "codemirror_mode": {
    "name": "ipython",
    "version": 3
   },
   "file_extension": ".py",
   "mimetype": "text/x-python",
   "name": "python",
   "nbconvert_exporter": "python",
   "pygments_lexer": "ipython3",
   "version": "3.11.4"
  }
 },
 "nbformat": 4,
 "nbformat_minor": 5
}

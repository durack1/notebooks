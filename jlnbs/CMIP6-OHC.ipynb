{
 "cells": [
  {
   "cell_type": "markdown",
   "id": "43156198-f3c3-409c-aeb8-2e87d97becdb",
   "metadata": {},
   "source": [
    "# Notes"
   ]
  },
  {
   "cell_type": "raw",
   "id": "e8fc4056-49dc-4e4b-b0a0-484428ce7afa",
   "metadata": {},
   "source": [
    "A coupled of links\n",
    "xsearch local - /p/user_pub/xclim/persist/software/xsearch/\n",
    "\n",
    "PJD 17 Jan 2024 - Started with E3SM historical analyses\n",
    "\n",
    "Resources:\n",
    "GSW - https://github.com/TEOS-10/GSW-Python, https://github.com/DocOtak/gsw-xarray (CF wrapper) - docs https://teos-10.github.io/GSW-Python/gsw_flat.html\n",
    "Interpolation - Barker & McDougall, 2020 https://doi.org/10.1175/JTECH-D-19-0211.1 gsw_SA_CT_interp.m - https://github.com/TEOS-10/GSW-Matlab/blob/master/Toolbox/gsw_SA_CT_interp.m\n",
    "Stabilization - Barker & McDougall, 2017 https://doi.org/10.1175/JTECH-D-16-0111.1 gsw_stabilise_SA_CT gsw_stabilise_SA_const_T - https://github.com/TEOS-10/GSW-Matlab/blob/master/Toolbox/gsw_stabilise_SA_const_t.m\n",
    "Neutral density - https://github.com/geoffstanley/neutralocean https://doi.org/10.1029/2020MS002436 plus https://doi.org/10.1175/JPO-D-19-0321.1\n",
    "\n",
    "Plan generate 18-level analysis https://github.com/durack1/durolib/blob/master/durolib/makeStericLib.py#L292"
   ]
  },
  {
   "cell_type": "markdown",
   "id": "1d5e7829-75b0-4cc8-a8d3-0be1ffa54f9f",
   "metadata": {},
   "source": [
    "## imports"
   ]
  },
  {
   "cell_type": "code",
   "execution_count": 11,
   "id": "236e55ab-dbca-404a-828b-a3416e7a9246",
   "metadata": {},
   "outputs": [],
   "source": [
    "import os\n",
    "os.sys.path.insert(0, \"/p/user_pub/xclim/persist/software/xsearch/\")\n",
    "import numpy as np\n",
    "import xcdat as xc\n",
    "import xsearch as xs"
   ]
  },
  {
   "cell_type": "markdown",
   "id": "9db6088f-35a1-4e61-862c-6ce1f6a8a441",
   "metadata": {},
   "source": [
    "## define target vertical coord"
   ]
  },
  {
   "cell_type": "code",
   "execution_count": 12,
   "id": "1f6768cf-dec0-4ea4-90b0-e9865d7b1d4d",
   "metadata": {},
   "outputs": [
    {
     "data": {
      "text/plain": [
       "(18,)"
      ]
     },
     "execution_count": 12,
     "metadata": {},
     "output_type": "execute_result"
    }
   ],
   "source": [
    "newdepth = np.array([5,10,20,30,40,50,75,100,125,150,200,300,500,700,1000,1500,1800,2000]).astype('f');\n",
    "newdepth.shape"
   ]
  },
  {
   "cell_type": "markdown",
   "id": "d32e72de-539c-4d3f-a01f-a3b92eadb7de",
   "metadata": {},
   "source": [
    "## search for E3SM-2-0 historical sims"
   ]
  },
  {
   "cell_type": "code",
   "execution_count": 13,
   "id": "0d117bea-82db-4282-8c5e-0752d7a53de9",
   "metadata": {},
   "outputs": [
    {
     "data": {
      "text/plain": [
       "['/p/user_pub/work/CMIP6/CMIP/E3SM-Project/E3SM-2-0/historical/r1i1p1f1/Omon/thetao/gr/v20221114/',\n",
       " '/p/user_pub/work/CMIP6/CMIP/E3SM-Project/E3SM-2-0/historical/r2i1p1f1/Omon/thetao/gr/v20221116/',\n",
       " '/p/user_pub/work/CMIP6/CMIP/E3SM-Project/E3SM-2-0/historical/r3i1p1f1/Omon/thetao/gr/v20221118/',\n",
       " '/p/user_pub/work/CMIP6/CMIP/E3SM-Project/E3SM-2-0/historical/r4i1p1f1/Omon/thetao/gr/v20221120/',\n",
       " '/p/user_pub/work/CMIP6/CMIP/E3SM-Project/E3SM-2-0/historical/r5i1p1f1/Omon/thetao/gr/v20221121/',\n",
       " '/p/user_pub/work/CMIP6/CMIP/E3SM-Project/E3SM-2-0/historical/r6i1p1f1/Omon/thetao/gr/v20230805/',\n",
       " '/p/user_pub/work/CMIP6/CMIP/E3SM-Project/E3SM-2-0/historical/r7i1p1f1/Omon/thetao/gr/v20230811/',\n",
       " '/p/user_pub/work/CMIP6/CMIP/E3SM-Project/E3SM-2-0/historical/r8i1p1f1/Omon/thetao/gr/v20230817/',\n",
       " '/p/user_pub/work/CMIP6/CMIP/E3SM-Project/E3SM-2-0/historical/r9i1p1f1/Omon/thetao/gr/v20230827/',\n",
       " '/p/user_pub/work/CMIP6/CMIP/E3SM-Project/E3SM-2-0/historical/r10i1p1f1/Omon/thetao/gr/v20230805/',\n",
       " '/p/user_pub/work/CMIP6/CMIP/E3SM-Project/E3SM-2-0/historical/r11i1p1f1/Omon/thetao/gr/v20230811/',\n",
       " '/p/user_pub/work/CMIP6/CMIP/E3SM-Project/E3SM-2-0/historical/r12i1p1f1/Omon/thetao/gr/v20230818/',\n",
       " '/p/user_pub/work/CMIP6/CMIP/E3SM-Project/E3SM-2-0/historical/r13i1p1f1/Omon/thetao/gr/v20230827/',\n",
       " '/p/user_pub/work/CMIP6/CMIP/E3SM-Project/E3SM-2-0/historical/r14i1p1f1/Omon/thetao/gr/v20230805/',\n",
       " '/p/user_pub/work/CMIP6/CMIP/E3SM-Project/E3SM-2-0/historical/r15i1p1f1/Omon/thetao/gr/v20230811/',\n",
       " '/p/user_pub/work/CMIP6/CMIP/E3SM-Project/E3SM-2-0/historical/r16i1p1f1/Omon/thetao/gr/v20230818/',\n",
       " '/p/user_pub/work/CMIP6/CMIP/E3SM-Project/E3SM-2-0/historical/r17i1p1f1/Omon/thetao/gr/v20230827/',\n",
       " '/p/user_pub/work/CMIP6/CMIP/E3SM-Project/E3SM-2-0/historical/r18i1p1f1/Omon/thetao/gr/v20230805/',\n",
       " '/p/user_pub/work/CMIP6/CMIP/E3SM-Project/E3SM-2-0/historical/r19i1p1f1/Omon/thetao/gr/v20230811/',\n",
       " '/p/user_pub/work/CMIP6/CMIP/E3SM-Project/E3SM-2-0/historical/r20i1p1f1/Omon/thetao/gr/v20230818/',\n",
       " '/p/user_pub/work/CMIP6/CMIP/E3SM-Project/E3SM-2-0/historical/r21i1p1f1/Omon/thetao/gr/v20230827/']"
      ]
     },
     "execution_count": 13,
     "metadata": {},
     "output_type": "execute_result"
    }
   ],
   "source": [
    "dpaths = xs.findPaths('historical', 'thetao', 'mon', realm='ocean', cmipTable='Omon')\n",
    "#print(dpaths.keys())\n",
    "xs.getValuesForFacet(dpaths, 'model', 'E3SM-2-0')  # also E3SM-1-0 (E3SM-Project (1-5), UCSB, E3SM-Project), E3SM-1-1 + ECA, E3SM-2-0-NARRM"
   ]
  },
  {
   "cell_type": "markdown",
   "id": "86ffa606-96c6-4b30-9cf8-468b080053fb",
   "metadata": {},
   "source": [
    "## prototype for single realization - choose 13"
   ]
  },
  {
   "cell_type": "code",
   "execution_count": null,
   "id": "b06503e0-87e1-445a-ac8c-93ba0392c7a6",
   "metadata": {},
   "outputs": [],
   "source": [
    "ds = "
   ]
  }
 ],
 "metadata": {
  "kernelspec": {
   "display_name": "Python 3 (ipykernel)",
   "language": "python",
   "name": "python3"
  },
  "language_info": {
   "codemirror_mode": {
    "name": "ipython",
    "version": 3
   },
   "file_extension": ".py",
   "mimetype": "text/x-python",
   "name": "python",
   "nbconvert_exporter": "python",
   "pygments_lexer": "ipython3",
   "version": "3.10.13"
  }
 },
 "nbformat": 4,
 "nbformat_minor": 5
}
